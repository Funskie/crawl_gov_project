{
 "cells": [
  {
   "cell_type": "code",
   "execution_count": 13,
   "id": "e181a01c",
   "metadata": {},
   "outputs": [],
   "source": [
    "import requests\n",
    "from selenium import webdriver\n",
    "from selenium.webdriver.common.keys import Keys\n",
    "from bs4 import BeautifulSoup\n",
    "\n",
    "import time\n",
    "from time import sleep\n",
    "from datetime import datetime\n",
    "import re\n",
    "\n",
    "import numpy as np\n",
    "import pandas as pd\n",
    "\n",
    "import smtplib\n",
    "from email.mime.text import MIMEText\n",
    "from email import encoders, utils\n",
    "from email.mime.multipart import MIMEMultipart"
   ]
  },
  {
   "cell_type": "code",
   "execution_count": 14,
   "id": "b1f95809",
   "metadata": {},
   "outputs": [],
   "source": [
    "keywords = [\"邊坡\", \"崩塌\", \"復建\"]\n",
    "orgkws = [\"水土保持局臺北分局\", \"羅東林區管理處 \", \"第四區養護工程處\", \"宜蘭縣\"]"
   ]
  },
  {
   "cell_type": "code",
   "execution_count": 15,
   "id": "a21060e3",
   "metadata": {},
   "outputs": [],
   "source": [
    "def get_tender_by_kw(kws, loc):\n",
    "    driver = webdriver.PhantomJS(executable_path=r\"D:\\PyProjects\\projcrawler\\phantomjs-2.1.1-windows\\bin\\phantomjs.exe\")\n",
    "    tender_list = []\n",
    "    for k in kws:\n",
    "        bidSystemUrl = \"https://web.pcc.gov.tw/tps/pss/tender.do?method=goSearch&searchMode=common&searchType=basic\"\n",
    "        browse = driver.get(bidSystemUrl)\n",
    "        homepage = driver.page_source\n",
    "        query = driver.find_element_by_name(\"tenderName\")\n",
    "        query.clear()\n",
    "        query.send_keys(k)\n",
    "        queryCate = driver.find_element_by_css_selector(\"#radProctrgCate1\")\n",
    "        queryCate.click()\n",
    "        queryTime = driver.find_element_by_css_selector(\"#rangeTenderDateRadio\")\n",
    "        queryTime.click()\n",
    "        query_loc = driver.find_element_by_name(\"orgName\")\n",
    "        query_loc.send_keys(loc)\n",
    "        query.send_keys(Keys.RETURN)\n",
    "        sleep(1) #等頁面回傳\n",
    "        bidpage = driver.page_source\n",
    "        soup = BeautifulSoup(bidpage, 'html.parser')\n",
    "        tender_table = soup.find_all(\"tr\", onmouseover=\"overcss(this);\")\n",
    "        tender_list += tender_table\n",
    "    return list(set(tender_list))\n",
    "\n",
    "def get_tender_by_org(orgs):\n",
    "    driver = webdriver.PhantomJS(executable_path=r\"D:\\PyProjects\\projcrawler\\phantomjs-2.1.1-windows\\bin\\phantomjs.exe\")\n",
    "    tender_list = []\n",
    "    for o in orgs:\n",
    "        bidSystemUrl = \"https://web.pcc.gov.tw/tps/pss/tender.do?method=goSearch&searchMode=common&searchType=basic\"\n",
    "        browse = driver.get(bidSystemUrl)\n",
    "        homepage = driver.page_source\n",
    "        query = driver.find_element_by_name(\"orgName\")\n",
    "        query.clear()\n",
    "        query.send_keys(o)\n",
    "        queryCate = driver.find_element_by_css_selector(\"#radProctrgCate1\")\n",
    "        queryCate.click()\n",
    "        queryTime = driver.find_element_by_css_selector(\"#rangeTenderDateRadio\")\n",
    "        queryTime.click()\n",
    "        query.send_keys(Keys.RETURN)\n",
    "        sleep(1) #等頁面回傳\n",
    "        bidpage = driver.page_source\n",
    "        soup = BeautifulSoup(bidpage, 'html.parser')\n",
    "        tender_table = soup.find_all(\"tr\", onmouseover=\"overcss(this);\")\n",
    "        tender_list += tender_table\n",
    "    return list(set(tender_list))\n",
    "\n",
    "def get_tender_info(tender):\n",
    "    return {\n",
    "        \"機關名稱\": \"\".join(tender.find_all(\"td\")[1].text.split()), \n",
    "        \"標案案號&標案名稱\": \" \".join(tender.find_all(\"td\")[2].text.split()), \n",
    "        \"傳輸次數\": \"\".join(tender.find_all(\"td\")[3].text.split()), \n",
    "        \"招標方式\": \"\".join(tender.find_all(\"td\")[4].text.split()), \n",
    "        \"採購性質\": \"\".join(tender.find_all(\"td\")[5].text.split()), \n",
    "        \"公告日期\": \"\".join(tender.find_all(\"td\")[6].text.split()), \n",
    "        \"截止投標\": \"\".join(tender.find_all(\"td\")[7].text.split()), \n",
    "        \"預算金額\": \"\".join(tender.find_all(\"td\")[8].text.split()), \n",
    "        \"url\": tender.find_all(\"td\")[2].find('a').get('href').replace(\"..\", \"https://web.pcc.gov.tw/tps\")\n",
    "           }"
   ]
  },
  {
   "cell_type": "code",
   "execution_count": 16,
   "id": "af7c1b51",
   "metadata": {},
   "outputs": [
    {
     "name": "stderr",
     "output_type": "stream",
     "text": [
      "C:\\Users\\User\\anaconda3\\envs\\py38\\lib\\site-packages\\selenium\\webdriver\\phantomjs\\webdriver.py:49: UserWarning: Selenium support for PhantomJS has been deprecated, please use headless versions of Chrome or Firefox instead\n",
      "  warnings.warn('Selenium support for PhantomJS has been deprecated, please use headless '\n"
     ]
    }
   ],
   "source": [
    "t_ks = []\n",
    "for loc in [\"臺北\", \"新北\", \"桃園\", \"新竹\", \"宜蘭\"]:\n",
    "    t = get_tender_by_kw(keywords, loc)\n",
    "    t_ks += t\n",
    "t_orgs = get_tender_by_org(orgkws)\n",
    "t_list = list(set(t_ks+t_orgs))"
   ]
  },
  {
   "cell_type": "code",
   "execution_count": 17,
   "id": "6e8d0134",
   "metadata": {},
   "outputs": [
    {
     "data": {
      "text/plain": [
       "(23, 38, 61)"
      ]
     },
     "execution_count": 17,
     "metadata": {},
     "output_type": "execute_result"
    }
   ],
   "source": [
    "len(t_ks), len(t_orgs), len(t_list)"
   ]
  },
  {
   "cell_type": "code",
   "execution_count": 18,
   "id": "9975016f",
   "metadata": {},
   "outputs": [
    {
     "data": {
      "text/plain": [
       "{'機關名稱': '新北市坪林區公所',\n",
       " '標案案號&標案名稱': '111011201 111年度坪林區天然災害搶災搶險及復建工程開口契約',\n",
       " '傳輸次數': '03',\n",
       " '招標方式': '公開招標',\n",
       " '採購性質': '工程類',\n",
       " '公告日期': '111/02/10',\n",
       " '截止投標': '111/02/16',\n",
       " '預算金額': '7,564,367',\n",
       " 'url': 'https://web.pcc.gov.tw/tps/tpam/main/tps/tpam/tpam_tender_detail.do?searchMode=common&scope=F&primaryKey=53720251'}"
      ]
     },
     "execution_count": 18,
     "metadata": {},
     "output_type": "execute_result"
    }
   ],
   "source": [
    "get_tender_info(t_list[0])"
   ]
  },
  {
   "cell_type": "code",
   "execution_count": 19,
   "id": "cfa37927",
   "metadata": {},
   "outputs": [],
   "source": [
    "now = datetime.now().strftime(\"%Y/%m/%d\")\n",
    "text = f\"<h>{now}等標期內標案</h>\""
   ]
  },
  {
   "cell_type": "code",
   "execution_count": 20,
   "id": "ca1cdde9",
   "metadata": {},
   "outputs": [],
   "source": [
    "tender_df = pd.DataFrame()\n",
    "for t in t_list:\n",
    "    temp_df = pd.DataFrame()\n",
    "    t_info = get_tender_info(t)\n",
    "    for k, v in t_info.items():\n",
    "        temp_df[k] = [v]\n",
    "    tender_df = pd.concat([tender_df, temp_df], ignore_index=True)\n",
    "tender_df.sort_values(\"截止投標\", inplace=True, ignore_index=True)\n",
    "tender_df.drop_duplicates(keep='last', ignore_index=True, inplace=True)"
   ]
  },
  {
   "cell_type": "code",
   "execution_count": 21,
   "id": "3955f7b5",
   "metadata": {},
   "outputs": [],
   "source": [
    "tender_df['url'] = '<a href=' + tender_df['url'] + '><div>連結</div></a>'\n",
    "text += tender_df.to_html(escape=False).replace(\"\\n\", \"\")"
   ]
  },
  {
   "cell_type": "code",
   "execution_count": 22,
   "id": "bfba6676",
   "metadata": {},
   "outputs": [],
   "source": [
    "mailList = ['chongjing3370@gmail.com', 'tusty9292@gmail.com', 'fish892555@gmail.com']"
   ]
  },
  {
   "cell_type": "code",
   "execution_count": 23,
   "id": "d7bb9b71",
   "metadata": {},
   "outputs": [],
   "source": [
    "me = 'tusty9292@gmail.com'\n",
    "mail = MIMEMultipart()\n",
    "mail['Subject'] = \"政府採購公告網 \"+str(time.strftime(\"%Y/%m/%d-%H%M\"))\n",
    "mail['From'] = 'chongjing3370@gmail.com'\n",
    "mail['Date'] = utils.formatdate(localtime = 1)\n",
    "mail['Message-ID'] = utils.make_msgid()\n",
    "mail['Content-Type'] = \"text/calendar; charset=utf-8\"\n",
    "body = MIMEText(text, 'html', \"utf-8\")\n",
    "body.set_charset(\"utf-8\")\n",
    "mail.attach(body)"
   ]
  },
  {
   "cell_type": "code",
   "execution_count": 24,
   "id": "d9d9382a",
   "metadata": {},
   "outputs": [
    {
     "name": "stdout",
     "output_type": "stream",
     "text": [
      "Complete!\n"
     ]
    }
   ],
   "source": [
    "with smtplib.SMTP(host=\"smtp.gmail.com\", port=\"587\") as smtp:  # 設定SMTP伺服器\n",
    "    try:\n",
    "        smtp.ehlo()  # 驗證SMTP伺服器\n",
    "        smtp.starttls()  # 建立加密傳輸\n",
    "        smtp.login('chongjing3370@gmail.com', 'njhxfuhvwdmdjgds')  # 登入寄件者gmail\n",
    "        smtp.sendmail(me, mailList, mail.as_string())  # 寄送郵件\n",
    "        print(\"Complete!\")\n",
    "    except Exception as e:\n",
    "        print(\"Error message: \", e)"
   ]
  },
  {
   "cell_type": "code",
   "execution_count": null,
   "id": "a3532db2",
   "metadata": {},
   "outputs": [],
   "source": []
  }
 ],
 "metadata": {
  "kernelspec": {
   "display_name": "Python 3",
   "language": "python",
   "name": "python3"
  },
  "language_info": {
   "codemirror_mode": {
    "name": "ipython",
    "version": 3
   },
   "file_extension": ".py",
   "mimetype": "text/x-python",
   "name": "python",
   "nbconvert_exporter": "python",
   "pygments_lexer": "ipython3",
   "version": "3.8.10"
  }
 },
 "nbformat": 4,
 "nbformat_minor": 5
}
