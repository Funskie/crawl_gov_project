{
 "cells": [
  {
   "cell_type": "code",
   "execution_count": 34,
   "id": "e181a01c",
   "metadata": {},
   "outputs": [],
   "source": [
    "import requests\n",
    "from selenium import webdriver\n",
    "from selenium.webdriver.common.keys import Keys\n",
    "from bs4 import BeautifulSoup\n",
    "\n",
    "import time\n",
    "from time import sleep\n",
    "import re\n",
    "\n",
    "import numpy as np\n",
    "import pandas as pd"
   ]
  },
  {
   "cell_type": "code",
   "execution_count": 2,
   "id": "b1f95809",
   "metadata": {},
   "outputs": [],
   "source": [
    "keywords = [\"邊坡\", \"崩塌\", \"復建\"]\n",
    "orgkws = [\"水土保持局臺北分局\", \"羅東林區管理處 \", \"第四區養護工程處\", \"宜蘭縣\"]"
   ]
  },
  {
   "cell_type": "code",
   "execution_count": 3,
   "id": "b66181a2",
   "metadata": {},
   "outputs": [
    {
     "name": "stderr",
     "output_type": "stream",
     "text": [
      "C:\\Users\\User\\anaconda3\\envs\\py38\\lib\\site-packages\\selenium\\webdriver\\phantomjs\\webdriver.py:49: UserWarning: Selenium support for PhantomJS has been deprecated, please use headless versions of Chrome or Firefox instead\n",
      "  warnings.warn('Selenium support for PhantomJS has been deprecated, please use headless '\n"
     ]
    }
   ],
   "source": [
    "driver = webdriver.PhantomJS(executable_path=r\"D:\\PyProjects\\projcrawler\\phantomjs-2.1.1-windows\\bin\\phantomjs.exe\")\n",
    "bidSystemUrl = \"https://web.pcc.gov.tw/tps/pss/tender.do?method=goSearch&searchMode=common&searchType=basic\"\n",
    "browse = driver.get(bidSystemUrl)\n",
    "homepage = driver.page_source\n",
    "query = driver.find_element_by_name(\"tenderName\")\n",
    "query.clear()\n",
    "query.send_keys(\"復建\")\n",
    "queryCate = driver.find_element_by_css_selector(\"#radProctrgCate1\")\n",
    "queryCate.click()"
   ]
  },
  {
   "cell_type": "code",
   "execution_count": 8,
   "id": "108fd311",
   "metadata": {},
   "outputs": [
    {
     "data": {
      "text/plain": [
       "[<tr bgcolor=\"#FFFFFF\" onmouseout=\"outcss(this,'#FFFFFF');\" onmouseover=\"overcss(this);\">\n",
       " <!-- 項次 -->\n",
       " <td align=\"center\">1 </td>\n",
       " <!-- 機關名稱 -->\n",
       " <td align=\"left\">新北市坪林區公所 </td>\n",
       " <!-- 標案案號&標案名稱 -->\n",
       " <td align=\"left\">\n",
       " \t\t\t\t\t\t\t\t\t\t\t\t111011201\n",
       " \t\t\t\t\t\t\t\t\t\t\t\t\n",
       " \t\t\t\t\t\t\t\t\t\t\t\t<br/>\n",
       " <a href=\"../tpam/main/tps/tpam/tpam_tender_detail.do?searchMode=common&amp;scope=F&amp;primaryKey=53720251\" title=\"111年度坪林區天然災害搶災搶險及復建工程開口契約\">\n",
       " <u>111年度坪林區天然災害搶災搶險及復建工程開口契約</u>\n",
       " </a>\n",
       " \t\t\t\t\t\t\t\t\t\t\t\t\t\n",
       " \t\t\t\t\t\t\t\t\t\t\t\t\t\n",
       " \t\t\t\t\t\t\t\t\t\t\t\t\t\n",
       " \t\t\t\t\t\t\t\t\t\t\t\t\t\n",
       " \t\t\t\t\t\t\t\t\t\t\t\t \n",
       " \t\t\t\t\t\t\t\t\t\t\t\t</td>\n",
       " <!-- 傳輸次數 -->\n",
       " <td align=\"center\">\n",
       " <a href=\"../tpam/main/tps/tpam/tpam_tender_detail.do?searchMode=common&amp;scope=F&amp;primaryKey=53720251\" title=\"03\">\n",
       " <u>03</u>\n",
       " </a>\n",
       " \t\t\t\t\t\t\t\t\t\t\t\t\t\t\n",
       " \t\t\t\t\t\t\t\t\t\t\t\t\t\t\n",
       " \t\t\t\t\t\t\t\t\t\t\t\t\t \n",
       " \t\t\t\t\t\t\t\t\t\t\t\t</td>\n",
       " <!-- 招標方式 -->\n",
       " <td align=\"left\">公開招標</td>\n",
       " <!-- 標的分類 -->\n",
       " <td align=\"left\">工程類</td>\n",
       " <!-- 公告日期 -->\n",
       " <td align=\"left\">111/02/10\n",
       " </td>\n",
       " <!-- 截止投標 -->\n",
       " <td align=\"left\">111/02/16\n",
       " </td>\n",
       " <!-- 預算金額 -->\n",
       " <td align=\"right\">\n",
       " \t\t\t\t\t\t\t\t\t\t\t\t\t\n",
       " \t\t\t\t\t\t\t\t\t\t\t\t\t\n",
       " \t\t\t\t\t\t\t\t\t\t\t\t\t\n",
       " \t\t\t\t\t\t\t\t\t\t\t\t\t\t\n",
       " \t\t\t\t\t\t\t\t\t\t\t\t\t\t\n",
       " \t\t\t\t\t\t\t\t\t\t\t\t\t\t7,564,367\n",
       " \t\t\t\t\t\t\t\t\t\t\t\t\t\t\t\t\t\t\t\t\t\t\t\t\t\t\t\n",
       " \t\t\t\t\t\t\t\t\t\t\t\t\t\t\n",
       " \t\t\t\t\t\t\t\t\t\t\t\t\t\n",
       " \t\t\t\t\t\t\t\t\t\t\t\t\t\t\t\t\t\t\t\t\t\t\t\t\t\n",
       " \t\t\t\t\t\t\t\t\t\t\t\t</td>\n",
       " </tr>]"
      ]
     },
     "execution_count": 8,
     "metadata": {},
     "output_type": "execute_result"
    }
   ],
   "source": [
    "tender_table"
   ]
  },
  {
   "cell_type": "code",
   "execution_count": 74,
   "id": "a21060e3",
   "metadata": {},
   "outputs": [],
   "source": [
    "def get_tender_by_kw(kws, loc):\n",
    "    driver = webdriver.PhantomJS(executable_path=r\"D:\\PyProjects\\projcrawler\\phantomjs-2.1.1-windows\\bin\\phantomjs.exe\")\n",
    "    tender_list = []\n",
    "    for k in kws:\n",
    "        bidSystemUrl = \"https://web.pcc.gov.tw/tps/pss/tender.do?method=goSearch&searchMode=common&searchType=basic\"\n",
    "        browse = driver.get(bidSystemUrl)\n",
    "        homepage = driver.page_source\n",
    "        query = driver.find_element_by_name(\"tenderName\")\n",
    "        query.clear()\n",
    "        query.send_keys(k)\n",
    "        queryCate = driver.find_element_by_css_selector(\"#radProctrgCate1\")\n",
    "        queryCate.click()\n",
    "        query_loc = driver.find_element_by_name(\"orgName\")\n",
    "        query_loc.send_keys(loc)\n",
    "        query.send_keys(Keys.RETURN)\n",
    "        sleep(1) #等頁面回傳\n",
    "        bidpage = driver.page_source\n",
    "        soup = BeautifulSoup(bidpage, 'html.parser')\n",
    "        tender_table = soup.find_all(\"tr\", onmouseover=\"overcss(this);\")\n",
    "        tender_list += tender_table\n",
    "    return list(set(tender_list))\n",
    "\n",
    "def get_tender_by_org(orgs):\n",
    "    driver = webdriver.PhantomJS(executable_path=r\"D:\\PyProjects\\projcrawler\\phantomjs-2.1.1-windows\\bin\\phantomjs.exe\")\n",
    "    tender_list = []\n",
    "    for o in orgs:\n",
    "        bidSystemUrl = \"https://web.pcc.gov.tw/tps/pss/tender.do?method=goSearch&searchMode=common&searchType=basic\"\n",
    "        browse = driver.get(bidSystemUrl)\n",
    "        homepage = driver.page_source\n",
    "        query = driver.find_element_by_name(\"orgName\")\n",
    "        query.clear()\n",
    "        query.send_keys(o)\n",
    "        queryCate = driver.find_element_by_css_selector(\"#radProctrgCate1\")\n",
    "        queryCate.click()\n",
    "        query.send_keys(Keys.RETURN)\n",
    "        sleep(1) #等頁面回傳\n",
    "        bidpage = driver.page_source\n",
    "        soup = BeautifulSoup(bidpage, 'html.parser')\n",
    "        tender_table = soup.find_all(\"tr\", onmouseover=\"overcss(this);\")\n",
    "        tender_list += tender_table\n",
    "    return list(set(tender_list))\n",
    "\n",
    "def get_tender_info(tender):\n",
    "    return {\n",
    "        \"機關名稱\": \"\".join(tender.find_all(\"td\")[1].text.split()), \n",
    "        \"標案案號&標案名稱\": \"\".join(tender.find_all(\"td\")[2].text.split()), \n",
    "        \"傳輸次數\": \"\".join(tender.find_all(\"td\")[3].text.split()), \n",
    "        \"招標方式\": \"\".join(tender.find_all(\"td\")[4].text.split()), \n",
    "        \"採購性質\": \"\".join(tender.find_all(\"td\")[5].text.split()), \n",
    "        \"公告日期\": \"\".join(tender.find_all(\"td\")[6].text.split()), \n",
    "        \"截止投標\": \"\".join(tender.find_all(\"td\")[7].text.split()), \n",
    "        \"預算金額\": \"\".join(tender.find_all(\"td\")[8].text.split()), \n",
    "        \"url\": tender.find_all(\"td\")[2].find('a').get('href').replace(\"..\", \"https://web.pcc.gov.tw/tps\")\n",
    "           }"
   ]
  },
  {
   "cell_type": "code",
   "execution_count": 10,
   "id": "af7c1b51",
   "metadata": {},
   "outputs": [],
   "source": [
    "t_ks = []\n",
    "for loc in [\"臺北\", \"新北\", \"桃園\", \"新竹\", \"宜蘭\"]:\n",
    "    t = get_tender_by_kw(keywords, loc)\n",
    "    t_ks += t\n",
    "t_orgs = get_tender_by_org(orgkws)\n",
    "t_list = list(set(t_ks+t_orgs))"
   ]
  },
  {
   "cell_type": "code",
   "execution_count": 11,
   "id": "6e8d0134",
   "metadata": {},
   "outputs": [
    {
     "data": {
      "text/plain": [
       "(5, 6, 11)"
      ]
     },
     "execution_count": 11,
     "metadata": {},
     "output_type": "execute_result"
    }
   ],
   "source": [
    "len(t_ks), len(t_orgs), len(t_list)"
   ]
  },
  {
   "cell_type": "code",
   "execution_count": 76,
   "id": "645e4e2c",
   "metadata": {},
   "outputs": [
    {
     "data": {
      "text/plain": [
       "{'機關名稱': '交通部公路總局第四區養護工程處',\n",
       " '標案案號&標案名稱': '1104B133台7線85k+400~87k+800、台7甲線0k+000~1k+500、7k+400~9k+400路面改善工程',\n",
       " '傳輸次數': '04',\n",
       " '招標方式': '公開招標',\n",
       " '採購性質': '工程類',\n",
       " '公告日期': '111/02/10',\n",
       " '截止投標': '111/02/21',\n",
       " '預算金額': '15,978,909',\n",
       " 'url': 'https://web.pcc.gov.tw/tps/tpam/main/tps/tpam/tpam_tender_detail.do?searchMode=common&scope=F&primaryKey=53719607'}"
      ]
     },
     "execution_count": 76,
     "metadata": {},
     "output_type": "execute_result"
    }
   ],
   "source": [
    "get_tender_info(t_list[1])"
   ]
  },
  {
   "cell_type": "code",
   "execution_count": null,
   "id": "fa8c4c30",
   "metadata": {},
   "outputs": [],
   "source": []
  },
  {
   "cell_type": "code",
   "execution_count": 1,
   "id": "9841f458",
   "metadata": {},
   "outputs": [],
   "source": [
    "import numpy as np\n",
    "import pandas as pd\n",
    "\n",
    "import requests\n",
    "from bs4 import BeautifulSoup\n",
    "\n",
    "import json\n",
    "\n",
    "from datetime import datetime, timedelta\n",
    "import os"
   ]
  },
  {
   "cell_type": "code",
   "execution_count": 2,
   "id": "61bf8d06",
   "metadata": {},
   "outputs": [],
   "source": [
    "def get_proj_list_by_date(date):\n",
    "    unit_keywords = ['宜蘭', '羅東', '第四區養護工程處']\n",
    "    date_url = f\"https://pcc.g0v.ronny.tw/api/listbydate?date={date}\"\n",
    "    \n",
    "    r = requests.get(date_url)\n",
    "    d = json.loads(r.text)\n",
    "    p = [i for i in d['records'] if (i['brief']['type'] == '公開招標公告') and ('工程類' in i['brief']['category'])]\n",
    "    \n",
    "    projs = []\n",
    "    for k in unit_keywords:\n",
    "        for i in p:\n",
    "            try:\n",
    "                if k in i['unit_name']:\n",
    "                    projs.append(i)\n",
    "            except:\n",
    "                continue\n",
    "    return projs\n",
    "\n",
    "def get_proj_info(unit_id, job_number):\n",
    "    proj_url = f\"https://pcc.g0v.ronny.tw/api/tender?unit_id={unit_id}&job_number={job_number}\"\n",
    "    r = requests.get(proj_url)\n",
    "    d = json.loads(r.text)\n",
    "    return {\n",
    "        \"unit_name\": d['records'][0]['unit_name'], \n",
    "        \"proj_name\": d['records'][0]['brief']['title'], \n",
    "        \"proj_type\": d['records'][0]['brief']['type'], \n",
    "        \"proj_category\": d['records'][0]['brief']['category'], \n",
    "        \"proj_budget\": d['records'][0]['detail']['採購資料:預算金額'], \n",
    "        \"proj_loc\": d['records'][0]['detail']['其他:履約地點'], \n",
    "        \"proj_pub_time\":d['records'][0]['detail']['招標資料:公告日'], \n",
    "        \"proj_end_time\":d['records'][0]['detail']['領投開標:截止投標'], \n",
    "        \"proj_open_time\":d['records'][0]['detail']['領投開標:開標時間'], \n",
    "        \"url\": d['records'][0]['detail']['url']\n",
    "           }"
   ]
  },
  {
   "cell_type": "code",
   "execution_count": 3,
   "id": "44c4bcb3",
   "metadata": {},
   "outputs": [
    {
     "data": {
      "text/plain": [
       "['20210726', '20210727', '20210728', '20210729', '20210730']"
      ]
     },
     "execution_count": 3,
     "metadata": {},
     "output_type": "execute_result"
    }
   ],
   "source": [
    "# Monday is 0, Sunday is 6\n",
    "weekday = datetime.today().weekday()\n",
    "day_list = [i.strftime('%Y%m%d') for i in pd.date_range(datetime.today()-timedelta(days=7+weekday), datetime.today()-timedelta(days=2+weekday))][:-1]\n",
    "day_list"
   ]
  },
  {
   "cell_type": "code",
   "execution_count": 4,
   "id": "5f59357d",
   "metadata": {},
   "outputs": [],
   "source": [
    "proj_df = pd.DataFrame()\n",
    "for date in day_list:\n",
    "    projs = get_proj_list_by_date(date)\n",
    "    for proj in projs:\n",
    "        temp_df = pd.DataFrame()\n",
    "        proj_info = get_proj_info(proj['unit_id'], proj['job_number'])\n",
    "        for k, v in proj_info.items():\n",
    "            temp_df[k] = [v]\n",
    "        proj_df = pd.concat([proj_df, temp_df], ignore_index=True)\n",
    "proj_df.drop_duplicates(keep='last', ignore_index=True, inplace=True)\n",
    "proj_df.rename(columns={\"unit_name\":\"機關名稱\", \"proj_name\":\"標案名稱\", \"proj_type\":\"招標方式\", \"proj_category\":\"標的分類\", \n",
    "                        \"proj_budget\":\"預算金額\", \"proj_loc\":\"履約地點\", \"proj_pub_time\":\"公告日\", \"proj_end_time\":\"截止投標\", \n",
    "                        \"proj_open_time\":\"開標時間\"}, inplace=True)"
   ]
  },
  {
   "cell_type": "code",
   "execution_count": 5,
   "id": "b6f2fbae",
   "metadata": {},
   "outputs": [],
   "source": [
    "saved_name = os.path.join(\"c:\", \"Users\", \"User\", \"Desktop\", \"標案資料\", f\"{datetime.today().strftime('%Y%m%d')}.xlsx\")\n",
    "proj_df.to_excel(saved_name, index=None)"
   ]
  },
  {
   "cell_type": "code",
   "execution_count": null,
   "id": "ac3e1840",
   "metadata": {},
   "outputs": [],
   "source": []
  }
 ],
 "metadata": {
  "kernelspec": {
   "display_name": "Python 3",
   "language": "python",
   "name": "python3"
  },
  "language_info": {
   "codemirror_mode": {
    "name": "ipython",
    "version": 3
   },
   "file_extension": ".py",
   "mimetype": "text/x-python",
   "name": "python",
   "nbconvert_exporter": "python",
   "pygments_lexer": "ipython3",
   "version": "3.8.10"
  }
 },
 "nbformat": 4,
 "nbformat_minor": 5
}
